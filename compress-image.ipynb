{
 "cells": [
  {
   "cell_type": "code",
   "execution_count": 12,
   "metadata": {},
   "outputs": [
    {
     "name": "stdout",
     "output_type": "stream",
     "text": [
      "Compressed profile-pic.png to 67.97 KB\n",
      "Compressed body-background.png to 69.57 KB\n",
      "Compressed header-background.png to 77.39 KB\n"
     ]
    }
   ],
   "source": [
    "from PIL import Image\n",
    "import os\n",
    "\n",
    "def compress_images(directory, max_size_kb=80):\n",
    "    for filename in os.listdir(directory):\n",
    "        if filename.endswith(\".jpg\") or filename.endswith(\".jpeg\") or filename.endswith(\".png\"):\n",
    "            filepath = os.path.join(directory, filename)\n",
    "            with Image.open(filepath) as img:\n",
    "                # Calculate current file size in KB\n",
    "                current_size_kb = os.path.getsize(filepath) / 1024\n",
    "                \n",
    "                # Resize the image while its size is larger than target size\n",
    "                while current_size_kb > max_size_kb:\n",
    "                    # Reduce image dimensions by 10%\n",
    "                    new_width = int(img.width * 0.9)\n",
    "                    new_height = int(img.height * 0.9)\n",
    "                    \n",
    "                    # Resize the image\n",
    "                    img = img.resize((new_width, new_height))\n",
    "                    \n",
    "                    # Save the resized image\n",
    "                    img.save(filepath, optimize=True, quality=80)\n",
    "                    \n",
    "                    # Recalculate current file size\n",
    "                    current_size_kb = os.path.getsize(filepath) / 1024\n",
    "                    \n",
    "                print(f\"Compressed {filename} to {current_size_kb:.2f} KB\")\n",
    "\n",
    "# Usage example\n",
    "directory_path = \"/home/noman/18-noman024.github.io/images\"\n",
    "compress_images(directory_path, max_size_kb=80)\n"
   ]
  },
  {
   "cell_type": "code",
   "execution_count": null,
   "metadata": {},
   "outputs": [],
   "source": []
  }
 ],
 "metadata": {
  "kernelspec": {
   "display_name": "Python 3",
   "language": "python",
   "name": "python3"
  },
  "language_info": {
   "codemirror_mode": {
    "name": "ipython",
    "version": 3
   },
   "file_extension": ".py",
   "mimetype": "text/x-python",
   "name": "python",
   "nbconvert_exporter": "python",
   "pygments_lexer": "ipython3",
   "version": "3.10.12"
  }
 },
 "nbformat": 4,
 "nbformat_minor": 2
}
